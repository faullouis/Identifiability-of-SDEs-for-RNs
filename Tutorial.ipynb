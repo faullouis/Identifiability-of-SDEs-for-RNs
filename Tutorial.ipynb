{
 "cells": [
  {
   "cell_type": "code",
   "execution_count": 1,
   "id": "22ab4523-6949-4aa1-85b6-b17b4a2c13ea",
   "metadata": {},
   "outputs": [
    {
     "data": {
      "text/plain": [
       "sde_linear_conjugacy (generic function with 3 methods)"
      ]
     },
     "execution_count": 1,
     "metadata": {},
     "output_type": "execute_result"
    }
   ],
   "source": [
    "include(\"functions.jl\")"
   ]
  },
  {
   "cell_type": "markdown",
   "id": "6fb67743-808d-4099-af1a-233e2bbb0b07",
   "metadata": {},
   "source": [
    "## Reaction-identifiable RN both w.r.t. its ODE and its SDE"
   ]
  },
  {
   "cell_type": "code",
   "execution_count": 3,
   "id": "e974998c-f330-4a27-905d-7cd2f3a819dd",
   "metadata": {},
   "outputs": [
    {
     "data": {
      "text/latex": [
       "$$ \\begin{align*}\n",
       "\\require{mhchem} \n",
       "\\varnothing &\\xrightarrow{\\mathtt{k_{1}}} 2 \\mathrm{S} \\\\\n",
       "\\varnothing &\\xrightleftharpoons[\\mathtt{k_{3}}]{\\mathtt{k_{2}}} \\mathrm{S} \\\\\n",
       "\\varnothing &\\xrightarrow{\\mathtt{k_{4}}} 3 \\mathrm{S}  \n",
       " \\end{align*}\n",
       " $$"
      ],
      "text/plain": [
       "\u001b[0m\u001b[1mModel RN1:\u001b[22m\n",
       "\u001b[0m\u001b[1mUnknowns (1):\u001b[22m see unknowns(RN1)\n",
       "  S(t)\n",
       "\u001b[0m\u001b[1mParameters (4):\u001b[22m see parameters(RN1)\n",
       "  k_1\n",
       "  k_2\n",
       "  k_3\n",
       "  k_4"
      ]
     },
     "execution_count": 3,
     "metadata": {},
     "output_type": "execute_result"
    }
   ],
   "source": [
    "reaction_network_1 = @reaction_network RN1 begin\n",
    "    k_1,  ∅--> 2S\n",
    "     (k_2,k_3),∅<--> S\n",
    "    k_4,  ∅--> 3S\n",
    "end"
   ]
  },
  {
   "cell_type": "code",
   "execution_count": 5,
   "id": "daf8a6e5-6a03-41c2-87b3-25c3d41079d5",
   "metadata": {},
   "outputs": [
    {
     "name": "stdout",
     "output_type": "stream",
     "text": [
      "The reaction network is : \n"
     ]
    },
    {
     "data": {
      "text/latex": [
       "\\begin{align*}\n",
       "\\require{mhchem} \n",
       "\\varnothing &\\xrightarrow{\\mathtt{k_{1}}} 2 \\mathrm{S} \\\\\n",
       "\\varnothing &\\xrightleftharpoons[\\mathtt{k_{3}}]{\\mathtt{k_{2}}} \\mathrm{S} \\\\\n",
       "\\varnothing &\\xrightarrow{\\mathtt{k_{4}}} 3 \\mathrm{S}  \n",
       " \\end{align*}\n"
      ],
      "text/plain": [
       "L\"\\begin{align*}\n",
       "\\require{mhchem} \n",
       "\\varnothing &\\xrightarrow{\\mathtt{k_{1}}} 2 \\mathrm{S} \\\\\n",
       "\\varnothing &\\xrightleftharpoons[\\mathtt{k_{3}}]{\\mathtt{k_{2}}} \\mathrm{S} \\\\\n",
       "\\varnothing &\\xrightarrow{\\mathtt{k_{4}}} 3 \\mathrm{S}  \n",
       " \\end{align*}\n",
       "\""
      ]
     },
     "metadata": {},
     "output_type": "display_data"
    },
    {
     "name": "stdout",
     "output_type": "stream",
     "text": [
      "Set parameter Username\n",
      "Set parameter LicenseID to value 2636894\n",
      "Academic license - for non-commercial use only - expires 2026-03-15\n",
      "This RN isn't reaction-identifiable w.r.t. its ODE : there exist 2 sets of rate constants k=[1.0, 1.0, 1.0, 2.0]and k'= [1.0, 4.0, 1.0, 1.0] giving the same ODEs\n"
     ]
    },
    {
     "data": {
      "text/latex": [
       "Let $x_i$ be the concentration of the $i^\\text{th}$ species. For both vectors of rate constants the drift vector is given by :  "
      ],
      "text/plain": [
       "L\"Let $x_i$ be the concentration of the $i^\\text{th}$ species. For both vectors of rate constants the drift vector is given by :  \""
      ]
     },
     "metadata": {},
     "output_type": "display_data"
    },
    {
     "data": {
      "text/latex": [
       "$A(x)= \\begin{equation}\n",
       "\\left[\n",
       "\\begin{array}{c}\n",
       "9 - x_{1} \\\\\n",
       "\\end{array}\n",
       "\\right]\n",
       "\\end{equation}\n",
       "$"
      ],
      "text/plain": [
       "L\"$A(x)= \\begin{equation}\n",
       "\\left[\n",
       "\\begin{array}{c}\n",
       "9 - x_{1} \\\\\n",
       "\\end{array}\n",
       "\\right]\n",
       "\\end{equation}\n",
       "$\""
      ]
     },
     "metadata": {},
     "output_type": "display_data"
    }
   ],
   "source": [
    "ode_reaction_identifiability(reaction_network_1)"
   ]
  },
  {
   "cell_type": "code",
   "execution_count": 6,
   "id": "ae8c3504-8aa2-4598-90e0-6c1eab53f774",
   "metadata": {},
   "outputs": [
    {
     "name": "stdout",
     "output_type": "stream",
     "text": [
      "The reaction network is : \n"
     ]
    },
    {
     "data": {
      "text/latex": [
       "\\begin{align*}\n",
       "\\require{mhchem} \n",
       "\\varnothing &\\xrightarrow{\\mathtt{k_{1}}} 2 \\mathrm{S} \\\\\n",
       "\\varnothing &\\xrightleftharpoons[\\mathtt{k_{3}}]{\\mathtt{k_{2}}} \\mathrm{S} \\\\\n",
       "\\varnothing &\\xrightarrow{\\mathtt{k_{4}}} 3 \\mathrm{S}  \n",
       " \\end{align*}\n"
      ],
      "text/plain": [
       "L\"\\begin{align*}\n",
       "\\require{mhchem} \n",
       "\\varnothing &\\xrightarrow{\\mathtt{k_{1}}} 2 \\mathrm{S} \\\\\n",
       "\\varnothing &\\xrightleftharpoons[\\mathtt{k_{3}}]{\\mathtt{k_{2}}} \\mathrm{S} \\\\\n",
       "\\varnothing &\\xrightarrow{\\mathtt{k_{4}}} 3 \\mathrm{S}  \n",
       " \\end{align*}\n",
       "\""
      ]
     },
     "metadata": {},
     "output_type": "display_data"
    },
    {
     "name": "stdout",
     "output_type": "stream",
     "text": [
      "Set parameter Username\n",
      "Set parameter LicenseID to value 2636894\n",
      "Academic license - for non-commercial use only - expires 2026-03-15\n",
      "The RN isn't reaction-identifiable w.r.t. its SDE. There exist two sets of rate constants giving same SDE : k=[1.0, 40.0, 1.0, 14.0] and k'=[40.0, 1.0, 1.0, 1.0]\n"
     ]
    },
    {
     "data": {
      "text/latex": [
       "Let $x_i$ be the concentration of the $i^\\text{th}$ species. For both vectors of rate constants the drift vectors and diffusion matrices are given by :"
      ],
      "text/plain": [
       "L\"Let $x_i$ be the concentration of the $i^\\text{th}$ species. For both vectors of rate constants the drift vectors and diffusion matrices are given by :\""
      ]
     },
     "metadata": {},
     "output_type": "display_data"
    },
    {
     "data": {
      "text/latex": [
       "$A(x)= \\begin{equation}\n",
       "\\left[\n",
       "\\begin{array}{c}\n",
       "84 - x_{1} \\\\\n",
       "\\end{array}\n",
       "\\right]\n",
       "\\end{equation}\n",
       "$"
      ],
      "text/plain": [
       "L\"$A(x)= \\begin{equation}\n",
       "\\left[\n",
       "\\begin{array}{c}\n",
       "84 - x_{1} \\\\\n",
       "\\end{array}\n",
       "\\right]\n",
       "\\end{equation}\n",
       "$\""
      ]
     },
     "metadata": {},
     "output_type": "display_data"
    },
    {
     "data": {
      "text/latex": [
       "$B(x)= \\begin{equation}\n",
       "\\left[\n",
       "\\begin{array}{c}\n",
       "170 + x_{1} \\\\\n",
       "\\end{array}\n",
       "\\right]\n",
       "\\end{equation}\n",
       "$"
      ],
      "text/plain": [
       "L\"$B(x)= \\begin{equation}\n",
       "\\left[\n",
       "\\begin{array}{c}\n",
       "170 + x_{1} \\\\\n",
       "\\end{array}\n",
       "\\right]\n",
       "\\end{equation}\n",
       "$\""
      ]
     },
     "metadata": {},
     "output_type": "display_data"
    }
   ],
   "source": [
    "sde_reaction_identifiability(reaction_network_1)"
   ]
  },
  {
   "cell_type": "markdown",
   "id": "1780e19a-8892-48b8-8304-4c6a867600b2",
   "metadata": {},
   "source": [
    "## Reaction-identifiable RN only w.r.t. its ODE"
   ]
  },
  {
   "cell_type": "code",
   "execution_count": 7,
   "id": "71fd56c0-46a0-4275-be75-b03e34e61b2a",
   "metadata": {},
   "outputs": [
    {
     "name": "stdout",
     "output_type": "stream",
     "text": [
      "Creation of the RN : Enter reactions line by line\n",
      "Just type reactions like 'A + B --> C + D'\n",
      "Use '∅' for creation or degradation (e.g., '∅ --> A')\n",
      "Enter an empty line to finish.\n"
     ]
    },
    {
     "name": "stdin",
     "output_type": "stream",
     "text": [
      "stdin>  S-->2S\n",
      "stdin>  S-->∅\n",
      "stdin>  \n"
     ]
    },
    {
     "name": "stdout",
     "output_type": "stream",
     "text": [
      "The reaction network is : \n"
     ]
    },
    {
     "data": {
      "text/latex": [
       "\\begin{align*}\n",
       "\\require{mhchem} \n",
       "\\mathrm{S} &\\xrightarrow{\\mathtt{k_{1}}} 2 \\mathrm{S} \\\\\n",
       "\\mathrm{S} &\\xrightarrow{\\mathtt{k_{2}}} \\varnothing  \n",
       " \\end{align*}\n"
      ],
      "text/plain": [
       "L\"\\begin{align*}\n",
       "\\require{mhchem} \n",
       "\\mathrm{S} &\\xrightarrow{\\mathtt{k_{1}}} 2 \\mathrm{S} \\\\\n",
       "\\mathrm{S} &\\xrightarrow{\\mathtt{k_{2}}} \\varnothing  \n",
       " \\end{align*}\n",
       "\""
      ]
     },
     "metadata": {},
     "output_type": "display_data"
    },
    {
     "name": "stdout",
     "output_type": "stream",
     "text": [
      "Set parameter Username\n",
      "Set parameter LicenseID to value 2636894\n",
      "Academic license - for non-commercial use only - expires 2026-03-15\n",
      "This RN isn't reaction-identifiable w.r.t. its ODE : there exist 2 sets of rate constants k=[1.0, 1.0]and k'= [2.0, 2.0] giving the same ODEs\n"
     ]
    },
    {
     "data": {
      "text/latex": [
       "Let $x_i$ be the concentration of the $i^\\text{th}$ species. For both vectors of rate constants the drift vector is given by :  "
      ],
      "text/plain": [
       "L\"Let $x_i$ be the concentration of the $i^\\text{th}$ species. For both vectors of rate constants the drift vector is given by :  \""
      ]
     },
     "metadata": {},
     "output_type": "display_data"
    },
    {
     "data": {
      "text/latex": [
       "$A(x)= \\begin{equation}\n",
       "\\left[\n",
       "\\begin{array}{c}\n",
       "0 \\\\\n",
       "\\end{array}\n",
       "\\right]\n",
       "\\end{equation}\n",
       "$"
      ],
      "text/plain": [
       "L\"$A(x)= \\begin{equation}\n",
       "\\left[\n",
       "\\begin{array}{c}\n",
       "0 \\\\\n",
       "\\end{array}\n",
       "\\right]\n",
       "\\end{equation}\n",
       "$\""
      ]
     },
     "metadata": {},
     "output_type": "display_data"
    }
   ],
   "source": [
    "ode_reaction_identifiability()"
   ]
  },
  {
   "cell_type": "code",
   "execution_count": 9,
   "id": "a1a70061-4495-4ade-a95c-cd9a976dc24d",
   "metadata": {},
   "outputs": [
    {
     "name": "stdout",
     "output_type": "stream",
     "text": [
      "Creation of the RN : Enter reactions line by line\n",
      "Just type reactions like 'A + B --> C + D'\n",
      "Use '∅' for creation or degradation (e.g., '∅ --> A')\n",
      "Enter an empty line to finish.\n"
     ]
    },
    {
     "name": "stdin",
     "output_type": "stream",
     "text": [
      "stdin>  S-->2S\n",
      "stdin>  S-->∅\n",
      "stdin>  \n"
     ]
    },
    {
     "name": "stdout",
     "output_type": "stream",
     "text": [
      "The reaction network is : \n"
     ]
    },
    {
     "data": {
      "text/latex": [
       "\\begin{align*}\n",
       "\\require{mhchem} \n",
       "\\mathrm{S} &\\xrightarrow{\\mathtt{k_{1}}} 2 \\mathrm{S} \\\\\n",
       "\\mathrm{S} &\\xrightarrow{\\mathtt{k_{2}}} \\varnothing  \n",
       " \\end{align*}\n"
      ],
      "text/plain": [
       "L\"\\begin{align*}\n",
       "\\require{mhchem} \n",
       "\\mathrm{S} &\\xrightarrow{\\mathtt{k_{1}}} 2 \\mathrm{S} \\\\\n",
       "\\mathrm{S} &\\xrightarrow{\\mathtt{k_{2}}} \\varnothing  \n",
       " \\end{align*}\n",
       "\""
      ]
     },
     "metadata": {},
     "output_type": "display_data"
    },
    {
     "name": "stdout",
     "output_type": "stream",
     "text": [
      "This RN is reaction-identifiable w.r.t. its SDE"
     ]
    }
   ],
   "source": [
    "sde_reaction_identifiability()"
   ]
  },
  {
   "cell_type": "markdown",
   "id": "f3d7a83f-077c-401e-a5ca-a6aeedea81ab",
   "metadata": {},
   "source": [
    "## Confoundable RNs both w.r.t. their ODEs and their SDEs"
   ]
  },
  {
   "cell_type": "code",
   "execution_count": 10,
   "id": "b566abe3-3ef3-41c4-b1d7-d6e96945dd23",
   "metadata": {},
   "outputs": [
    {
     "data": {
      "text/latex": [
       "$$ \\begin{align*}\n",
       "\\require{mhchem} \n",
       "\\mathrm{S} &\\xrightleftharpoons[\\mathtt{k_{2}}]{\\mathtt{k_{1}}} \\varnothing \\\\\n",
       "\\varnothing &\\xrightarrow{\\mathtt{k_{3}}} 3 \\mathrm{S}  \n",
       " \\end{align*}\n",
       " $$"
      ],
      "text/plain": [
       "\u001b[0m\u001b[1mModel RN4:\u001b[22m\n",
       "\u001b[0m\u001b[1mUnknowns (1):\u001b[22m see unknowns(RN4)\n",
       "  S(t)\n",
       "\u001b[0m\u001b[1mParameters (3):\u001b[22m see parameters(RN4)\n",
       "  k_1\n",
       "  k_2\n",
       "  k_3"
      ]
     },
     "execution_count": 10,
     "metadata": {},
     "output_type": "execute_result"
    }
   ],
   "source": [
    "reaction_network_3 = @reaction_network RN3 begin\n",
    "    @species S(t)\n",
    "    k_1,S--> ∅\n",
    "    k_2,  ∅--> S\n",
    "    k_3,∅--> 4S\n",
    "end\n",
    "\n",
    "reaction_network_4 = @reaction_network RN4 begin\n",
    "    @species S(t)\n",
    "    k_1,S--> ∅\n",
    "    k_2, ∅--> 2S\n",
    "    k_3, ∅--> 3S\n",
    "    \n",
    "end"
   ]
  },
  {
   "cell_type": "code",
   "execution_count": 11,
   "id": "a901db5c-0b1f-4b8a-a806-3778353431ae",
   "metadata": {},
   "outputs": [
    {
     "name": "stdout",
     "output_type": "stream",
     "text": [
      "First reaction network : \n"
     ]
    },
    {
     "data": {
      "text/latex": [
       "\\begin{align*}\n",
       "\\require{mhchem} \n",
       "\\mathrm{S} &\\xrightleftharpoons[\\mathtt{k_{2}}]{\\mathtt{k_{1}}} \\varnothing \\\\\n",
       "\\varnothing &\\xrightarrow{\\mathtt{k_{3}}} 4 \\mathrm{S}  \n",
       " \\end{align*}\n"
      ],
      "text/plain": [
       "L\"\\begin{align*}\n",
       "\\require{mhchem} \n",
       "\\mathrm{S} &\\xrightleftharpoons[\\mathtt{k_{2}}]{\\mathtt{k_{1}}} \\varnothing \\\\\n",
       "\\varnothing &\\xrightarrow{\\mathtt{k_{3}}} 4 \\mathrm{S}  \n",
       " \\end{align*}\n",
       "\""
      ]
     },
     "metadata": {},
     "output_type": "display_data"
    },
    {
     "name": "stdout",
     "output_type": "stream",
     "text": [
      "Second reaction network : \n"
     ]
    },
    {
     "data": {
      "text/latex": [
       "\\begin{align*}\n",
       "\\require{mhchem} \n",
       "\\mathrm{S} &\\xrightleftharpoons[\\mathtt{k_{2}}]{\\mathtt{k_{1}}} \\varnothing \\\\\n",
       "\\varnothing &\\xrightarrow{\\mathtt{k_{3}}} 3 \\mathrm{S}  \n",
       " \\end{align*}\n"
      ],
      "text/plain": [
       "L\"\\begin{align*}\n",
       "\\require{mhchem} \n",
       "\\mathrm{S} &\\xrightleftharpoons[\\mathtt{k_{2}}]{\\mathtt{k_{1}}} \\varnothing \\\\\n",
       "\\varnothing &\\xrightarrow{\\mathtt{k_{3}}} 3 \\mathrm{S}  \n",
       " \\end{align*}\n",
       "\""
      ]
     },
     "metadata": {},
     "output_type": "display_data"
    },
    {
     "name": "stdout",
     "output_type": "stream",
     "text": [
      "Set parameter Username\n",
      "Set parameter LicenseID to value 2636894\n",
      "Academic license - for non-commercial use only - expires 2026-03-15\n",
      "The 2 RNs are confoundable w.r.t. their ODEs\n",
      "The two RNs have same ODEs for rate constants : k=[1.0, 1.0, 1.0]and k'=[1.0, 1.0, 1.0]\n"
     ]
    },
    {
     "data": {
      "text/latex": [
       "Let $x_i$ be the concentration of your $i^\\text{th}$ first species. For both vectors of rate constants the drift vectors is given by :  "
      ],
      "text/plain": [
       "L\"Let $x_i$ be the concentration of your $i^\\text{th}$ first species. For both vectors of rate constants the drift vectors is given by :  \""
      ]
     },
     "metadata": {},
     "output_type": "display_data"
    },
    {
     "data": {
      "text/latex": [
       "$A(x) = \\begin{equation}\n",
       "\\left[\n",
       "\\begin{array}{c}\n",
       "5 - x_{1} \\\\\n",
       "\\end{array}\n",
       "\\right]\n",
       "\\end{equation}\n",
       "$"
      ],
      "text/plain": [
       "L\"$A(x) = \\begin{equation}\n",
       "\\left[\n",
       "\\begin{array}{c}\n",
       "5 - x_{1} \\\\\n",
       "\\end{array}\n",
       "\\right]\n",
       "\\end{equation}\n",
       "$\""
      ]
     },
     "metadata": {},
     "output_type": "display_data"
    }
   ],
   "source": [
    "ode_confoundability(reaction_network_3,reaction_network_4)"
   ]
  },
  {
   "cell_type": "code",
   "execution_count": 12,
   "id": "4353fae6-76e5-4276-9ec4-f56b51df1b60",
   "metadata": {},
   "outputs": [
    {
     "name": "stdout",
     "output_type": "stream",
     "text": [
      "First reaction network : \n"
     ]
    },
    {
     "data": {
      "text/latex": [
       "\\begin{align*}\n",
       "\\require{mhchem} \n",
       "\\mathrm{S} &\\xrightleftharpoons[\\mathtt{k_{2}}]{\\mathtt{k_{1}}} \\varnothing \\\\\n",
       "\\varnothing &\\xrightarrow{\\mathtt{k_{3}}} 4 \\mathrm{S}  \n",
       " \\end{align*}\n"
      ],
      "text/plain": [
       "L\"\\begin{align*}\n",
       "\\require{mhchem} \n",
       "\\mathrm{S} &\\xrightleftharpoons[\\mathtt{k_{2}}]{\\mathtt{k_{1}}} \\varnothing \\\\\n",
       "\\varnothing &\\xrightarrow{\\mathtt{k_{3}}} 4 \\mathrm{S}  \n",
       " \\end{align*}\n",
       "\""
      ]
     },
     "metadata": {},
     "output_type": "display_data"
    },
    {
     "name": "stdout",
     "output_type": "stream",
     "text": [
      "Second reaction network : \n"
     ]
    },
    {
     "data": {
      "text/latex": [
       "\\begin{align*}\n",
       "\\require{mhchem} \n",
       "\\mathrm{S} &\\xrightleftharpoons[\\mathtt{k_{2}}]{\\mathtt{k_{1}}} \\varnothing \\\\\n",
       "\\varnothing &\\xrightarrow{\\mathtt{k_{3}}} 3 \\mathrm{S}  \n",
       " \\end{align*}\n"
      ],
      "text/plain": [
       "L\"\\begin{align*}\n",
       "\\require{mhchem} \n",
       "\\mathrm{S} &\\xrightleftharpoons[\\mathtt{k_{2}}]{\\mathtt{k_{1}}} \\varnothing \\\\\n",
       "\\varnothing &\\xrightarrow{\\mathtt{k_{3}}} 3 \\mathrm{S}  \n",
       " \\end{align*}\n",
       "\""
      ]
     },
     "metadata": {},
     "output_type": "display_data"
    },
    {
     "name": "stdout",
     "output_type": "stream",
     "text": [
      "Set parameter Username\n",
      "Set parameter LicenseID to value 2636894\n",
      "Academic license - for non-commercial use only - expires 2026-03-15\n",
      "The 2 RNs are confoundable w.r.t. their SDEs\n",
      "The two RNs have same generator for rates : k=[1.0, 5.0, 1.0]and k'=[1.0, 3.0, 1.0]\n"
     ]
    },
    {
     "data": {
      "text/latex": [
       "Let $x_i$ be the concentration of your $i^\\text{th}$ first species. For both vectors of rate constants the drift vectors and diffusion matrices are given by :  "
      ],
      "text/plain": [
       "L\"Let $x_i$ be the concentration of your $i^\\text{th}$ first species. For both vectors of rate constants the drift vectors and diffusion matrices are given by :  \""
      ]
     },
     "metadata": {},
     "output_type": "display_data"
    },
    {
     "data": {
      "text/latex": [
       "$A(x) = \\begin{equation}\n",
       "\\left[\n",
       "\\begin{array}{c}\n",
       "9 - x_{1} \\\\\n",
       "\\end{array}\n",
       "\\right]\n",
       "\\end{equation}\n",
       "$"
      ],
      "text/plain": [
       "L\"$A(x) = \\begin{equation}\n",
       "\\left[\n",
       "\\begin{array}{c}\n",
       "9 - x_{1} \\\\\n",
       "\\end{array}\n",
       "\\right]\n",
       "\\end{equation}\n",
       "$\""
      ]
     },
     "metadata": {},
     "output_type": "display_data"
    },
    {
     "data": {
      "text/latex": [
       "$B(x) = \\begin{equation}\n",
       "\\left[\n",
       "\\begin{array}{c}\n",
       "21 + x_{1} \\\\\n",
       "\\end{array}\n",
       "\\right]\n",
       "\\end{equation}\n",
       "$"
      ],
      "text/plain": [
       "L\"$B(x) = \\begin{equation}\n",
       "\\left[\n",
       "\\begin{array}{c}\n",
       "21 + x_{1} \\\\\n",
       "\\end{array}\n",
       "\\right]\n",
       "\\end{equation}\n",
       "$\""
      ]
     },
     "metadata": {},
     "output_type": "display_data"
    }
   ],
   "source": [
    "sde_confoundability(reaction_network_3,reaction_network_4)"
   ]
  },
  {
   "cell_type": "markdown",
   "id": "d0510f9b-1649-473c-ae8d-b7feccd07a8a",
   "metadata": {},
   "source": [
    "## Only confoundable w.r.t. its ODE"
   ]
  },
  {
   "cell_type": "code",
   "execution_count": 13,
   "id": "497ff0f6-198b-4a6a-9d31-1a6863995231",
   "metadata": {},
   "outputs": [
    {
     "data": {
      "text/latex": [
       "$$ \\begin{align*}\n",
       "\\require{mhchem} \n",
       "\\mathrm{\\mathtt{A_{0}}} &\\xrightarrow{\\mathtt{k_{1}}} \\mathrm{\\mathtt{A_{1}}} + \\mathrm{\\mathtt{A_{3}}} \\\\\n",
       "\\mathrm{\\mathtt{A_{0}}} &\\xrightarrow{\\mathtt{k_{2}}} 2 \\mathrm{\\mathtt{A_{2}}} \\\\\n",
       "\\mathrm{\\mathtt{A_{0}}} &\\xrightarrow{\\mathtt{k_{3}}} 2 \\mathrm{\\mathtt{A_{3}}}  \n",
       " \\end{align*}\n",
       " $$"
      ],
      "text/plain": [
       "\u001b[0m\u001b[1mModel RN6:\u001b[22m\n",
       "\u001b[0m\u001b[1mUnknowns (4):\u001b[22m see unknowns(RN6)\n",
       "  A_0(t)\n",
       "  A_1(t)\n",
       "  A_3(t)\n",
       "  A_2(t)\n",
       "\u001b[0m\u001b[1mParameters (3):\u001b[22m see parameters(RN6)\n",
       "  k_1\n",
       "  k_2\n",
       "  k_3"
      ]
     },
     "execution_count": 13,
     "metadata": {},
     "output_type": "execute_result"
    }
   ],
   "source": [
    "reaction_network_5 = @reaction_network RN5 begin\n",
    "    @species A_0(t) A_1(t) A_2(t) A_3(t)\n",
    "    k_1, A_0 --> A_1+A_2\n",
    "    k_2,  A_0--> 2A_1\n",
    "    k_3,  A_0--> 2A_3\n",
    "end\n",
    "\n",
    "reaction_network_6 = @reaction_network RN6 begin\n",
    "   k_1, A_0 --> A_1+A_3\n",
    "   k_2,  A_0--> 2A_2\n",
    "    k_3,  A_0--> 2A_3\n",
    "end"
   ]
  },
  {
   "cell_type": "code",
   "execution_count": 14,
   "id": "d8335ec2-1d1a-4323-871e-b7dd459345b8",
   "metadata": {},
   "outputs": [
    {
     "name": "stdout",
     "output_type": "stream",
     "text": [
      "First reaction network : \n"
     ]
    },
    {
     "data": {
      "text/latex": [
       "\\begin{align*}\n",
       "\\require{mhchem} \n",
       "\\mathrm{\\mathtt{A_{0}}} &\\xrightarrow{\\mathtt{k_{1}}} \\mathrm{\\mathtt{A_{1}}} + \\mathrm{\\mathtt{A_{2}}} \\\\\n",
       "\\mathrm{\\mathtt{A_{0}}} &\\xrightarrow{\\mathtt{k_{2}}} 2 \\mathrm{\\mathtt{A_{1}}} \\\\\n",
       "\\mathrm{\\mathtt{A_{0}}} &\\xrightarrow{\\mathtt{k_{3}}} 2 \\mathrm{\\mathtt{A_{3}}}  \n",
       " \\end{align*}\n"
      ],
      "text/plain": [
       "L\"\\begin{align*}\n",
       "\\require{mhchem} \n",
       "\\mathrm{\\mathtt{A_{0}}} &\\xrightarrow{\\mathtt{k_{1}}} \\mathrm{\\mathtt{A_{1}}} + \\mathrm{\\mathtt{A_{2}}} \\\\\n",
       "\\mathrm{\\mathtt{A_{0}}} &\\xrightarrow{\\mathtt{k_{2}}} 2 \\mathrm{\\mathtt{A_{1}}} \\\\\n",
       "\\mathrm{\\mathtt{A_{0}}} &\\xrightarrow{\\mathtt{k_{3}}} 2 \\mathrm{\\mathtt{A_{3}}}  \n",
       " \\end{align*}\n",
       "\""
      ]
     },
     "metadata": {},
     "output_type": "display_data"
    },
    {
     "name": "stdout",
     "output_type": "stream",
     "text": [
      "Second reaction network : \n"
     ]
    },
    {
     "data": {
      "text/latex": [
       "\\begin{align*}\n",
       "\\require{mhchem} \n",
       "\\mathrm{\\mathtt{A_{0}}} &\\xrightarrow{\\mathtt{k_{1}}} \\mathrm{\\mathtt{A_{1}}} + \\mathrm{\\mathtt{A_{3}}} \\\\\n",
       "\\mathrm{\\mathtt{A_{0}}} &\\xrightarrow{\\mathtt{k_{2}}} 2 \\mathrm{\\mathtt{A_{2}}} \\\\\n",
       "\\mathrm{\\mathtt{A_{0}}} &\\xrightarrow{\\mathtt{k_{3}}} 2 \\mathrm{\\mathtt{A_{3}}}  \n",
       " \\end{align*}\n"
      ],
      "text/plain": [
       "L\"\\begin{align*}\n",
       "\\require{mhchem} \n",
       "\\mathrm{\\mathtt{A_{0}}} &\\xrightarrow{\\mathtt{k_{1}}} \\mathrm{\\mathtt{A_{1}}} + \\mathrm{\\mathtt{A_{3}}} \\\\\n",
       "\\mathrm{\\mathtt{A_{0}}} &\\xrightarrow{\\mathtt{k_{2}}} 2 \\mathrm{\\mathtt{A_{2}}} \\\\\n",
       "\\mathrm{\\mathtt{A_{0}}} &\\xrightarrow{\\mathtt{k_{3}}} 2 \\mathrm{\\mathtt{A_{3}}}  \n",
       " \\end{align*}\n",
       "\""
      ]
     },
     "metadata": {},
     "output_type": "display_data"
    },
    {
     "name": "stdout",
     "output_type": "stream",
     "text": [
      "Set parameter Username\n",
      "Set parameter LicenseID to value 2636894\n",
      "Academic license - for non-commercial use only - expires 2026-03-15\n",
      "The 2 RNs are confoundable w.r.t. their ODEs\n",
      "The two RNs have same ODEs for rate constants : k=[2.0, 1.0, 3.0]and k'=[4.0, 1.0, 1.0]\n"
     ]
    },
    {
     "data": {
      "text/latex": [
       "Let $x_i$ be the concentration of your $i^\\text{th}$ first species. For both vectors of rate constants the drift vectors is given by :  "
      ],
      "text/plain": [
       "L\"Let $x_i$ be the concentration of your $i^\\text{th}$ first species. For both vectors of rate constants the drift vectors is given by :  \""
      ]
     },
     "metadata": {},
     "output_type": "display_data"
    },
    {
     "data": {
      "text/latex": [
       "$A(x) = \\begin{equation}\n",
       "\\left[\n",
       "\\begin{array}{c}\n",
       " - 6 x_{1} \\\\\n",
       "4 x_{1} \\\\\n",
       "2 x_{1} \\\\\n",
       "6 x_{1} \\\\\n",
       "\\end{array}\n",
       "\\right]\n",
       "\\end{equation}\n",
       "$"
      ],
      "text/plain": [
       "L\"$A(x) = \\begin{equation}\n",
       "\\left[\n",
       "\\begin{array}{c}\n",
       " - 6 x_{1} \\\\\n",
       "4 x_{1} \\\\\n",
       "2 x_{1} \\\\\n",
       "6 x_{1} \\\\\n",
       "\\end{array}\n",
       "\\right]\n",
       "\\end{equation}\n",
       "$\""
      ]
     },
     "metadata": {},
     "output_type": "display_data"
    }
   ],
   "source": [
    "ode_confoundability(reaction_network_5,reaction_network_6)"
   ]
  },
  {
   "cell_type": "code",
   "execution_count": 15,
   "id": "66f43ae3-8d72-4259-a806-83ae530cb049",
   "metadata": {},
   "outputs": [
    {
     "name": "stdout",
     "output_type": "stream",
     "text": [
      "First reaction network : \n"
     ]
    },
    {
     "data": {
      "text/latex": [
       "\\begin{align*}\n",
       "\\require{mhchem} \n",
       "\\mathrm{\\mathtt{A_{0}}} &\\xrightarrow{\\mathtt{k_{1}}} \\mathrm{\\mathtt{A_{1}}} + \\mathrm{\\mathtt{A_{2}}} \\\\\n",
       "\\mathrm{\\mathtt{A_{0}}} &\\xrightarrow{\\mathtt{k_{2}}} 2 \\mathrm{\\mathtt{A_{1}}} \\\\\n",
       "\\mathrm{\\mathtt{A_{0}}} &\\xrightarrow{\\mathtt{k_{3}}} 2 \\mathrm{\\mathtt{A_{3}}}  \n",
       " \\end{align*}\n"
      ],
      "text/plain": [
       "L\"\\begin{align*}\n",
       "\\require{mhchem} \n",
       "\\mathrm{\\mathtt{A_{0}}} &\\xrightarrow{\\mathtt{k_{1}}} \\mathrm{\\mathtt{A_{1}}} + \\mathrm{\\mathtt{A_{2}}} \\\\\n",
       "\\mathrm{\\mathtt{A_{0}}} &\\xrightarrow{\\mathtt{k_{2}}} 2 \\mathrm{\\mathtt{A_{1}}} \\\\\n",
       "\\mathrm{\\mathtt{A_{0}}} &\\xrightarrow{\\mathtt{k_{3}}} 2 \\mathrm{\\mathtt{A_{3}}}  \n",
       " \\end{align*}\n",
       "\""
      ]
     },
     "metadata": {},
     "output_type": "display_data"
    },
    {
     "name": "stdout",
     "output_type": "stream",
     "text": [
      "Second reaction network : \n"
     ]
    },
    {
     "data": {
      "text/latex": [
       "\\begin{align*}\n",
       "\\require{mhchem} \n",
       "\\mathrm{\\mathtt{A_{0}}} &\\xrightarrow{\\mathtt{k_{1}}} \\mathrm{\\mathtt{A_{1}}} + \\mathrm{\\mathtt{A_{3}}} \\\\\n",
       "\\mathrm{\\mathtt{A_{0}}} &\\xrightarrow{\\mathtt{k_{2}}} 2 \\mathrm{\\mathtt{A_{2}}} \\\\\n",
       "\\mathrm{\\mathtt{A_{0}}} &\\xrightarrow{\\mathtt{k_{3}}} 2 \\mathrm{\\mathtt{A_{3}}}  \n",
       " \\end{align*}\n"
      ],
      "text/plain": [
       "L\"\\begin{align*}\n",
       "\\require{mhchem} \n",
       "\\mathrm{\\mathtt{A_{0}}} &\\xrightarrow{\\mathtt{k_{1}}} \\mathrm{\\mathtt{A_{1}}} + \\mathrm{\\mathtt{A_{3}}} \\\\\n",
       "\\mathrm{\\mathtt{A_{0}}} &\\xrightarrow{\\mathtt{k_{2}}} 2 \\mathrm{\\mathtt{A_{2}}} \\\\\n",
       "\\mathrm{\\mathtt{A_{0}}} &\\xrightarrow{\\mathtt{k_{3}}} 2 \\mathrm{\\mathtt{A_{3}}}  \n",
       " \\end{align*}\n",
       "\""
      ]
     },
     "metadata": {},
     "output_type": "display_data"
    },
    {
     "name": "stdout",
     "output_type": "stream",
     "text": [
      "Set parameter Username\n",
      "Set parameter LicenseID to value 2636894\n",
      "Academic license - for non-commercial use only - expires 2026-03-15\n",
      "The 2 RNs are not confoundable w.r.t. their SDEs\n"
     ]
    }
   ],
   "source": [
    "sde_confoundability(reaction_network_5,reaction_network_6)\n"
   ]
  },
  {
   "cell_type": "markdown",
   "id": "d0689b76-9a53-4f05-888f-4371fcbb11c2",
   "metadata": {},
   "source": [
    "## Non confoundable but linearly conjugated w.r.t. its SDE"
   ]
  },
  {
   "cell_type": "code",
   "execution_count": 16,
   "id": "9c695e94-e9ab-4663-ab95-d422b3206001",
   "metadata": {},
   "outputs": [],
   "source": [
    "reaction_network_11 = @reaction_network RN11 begin\n",
    "    @species A_1(t)\n",
    "    k_1,  A_1-->3*A_1\n",
    "end\n",
    "\n",
    "reaction_network_12 = @reaction_network RN12 begin\n",
    "    @species A_1(t) \n",
    "    k_1,  A_1-->2*A_1\n",
    "end;"
   ]
  },
  {
   "cell_type": "code",
   "execution_count": 17,
   "id": "36939c63-a89d-4823-8257-63f2d1614ea5",
   "metadata": {},
   "outputs": [
    {
     "name": "stdout",
     "output_type": "stream",
     "text": [
      "First reaction network : \n"
     ]
    },
    {
     "data": {
      "text/latex": [
       "\\begin{align*}\n",
       "\\require{mhchem} \n",
       "\\mathrm{\\mathtt{A_{1}}} &\\xrightarrow{\\mathtt{k_{1}}} 3 \\mathrm{\\mathtt{A_{1}}}  \n",
       " \\end{align*}\n"
      ],
      "text/plain": [
       "L\"\\begin{align*}\n",
       "\\require{mhchem} \n",
       "\\mathrm{\\mathtt{A_{1}}} &\\xrightarrow{\\mathtt{k_{1}}} 3 \\mathrm{\\mathtt{A_{1}}}  \n",
       " \\end{align*}\n",
       "\""
      ]
     },
     "metadata": {},
     "output_type": "display_data"
    },
    {
     "name": "stdout",
     "output_type": "stream",
     "text": [
      "Second reaction network : \n"
     ]
    },
    {
     "data": {
      "text/latex": [
       "\\begin{align*}\n",
       "\\require{mhchem} \n",
       "\\mathrm{\\mathtt{A_{1}}} &\\xrightarrow{\\mathtt{k_{1}}} 2 \\mathrm{\\mathtt{A_{1}}}  \n",
       " \\end{align*}\n"
      ],
      "text/plain": [
       "L\"\\begin{align*}\n",
       "\\require{mhchem} \n",
       "\\mathrm{\\mathtt{A_{1}}} &\\xrightarrow{\\mathtt{k_{1}}} 2 \\mathrm{\\mathtt{A_{1}}}  \n",
       " \\end{align*}\n",
       "\""
      ]
     },
     "metadata": {},
     "output_type": "display_data"
    },
    {
     "name": "stdout",
     "output_type": "stream",
     "text": [
      "Set parameter Username\n",
      "Set parameter LicenseID to value 2636894\n",
      "Academic license - for non-commercial use only - expires 2026-03-15\n",
      "The 2 RNs are not confoundable w.r.t. their SDEs\n"
     ]
    }
   ],
   "source": [
    "sde_confoundability(reaction_network_11,reaction_network_12)"
   ]
  },
  {
   "cell_type": "code",
   "execution_count": 18,
   "id": "8f037b78-770e-442e-bee6-b6e07deba149",
   "metadata": {},
   "outputs": [
    {
     "name": "stdout",
     "output_type": "stream",
     "text": [
      "First reaction network : \n"
     ]
    },
    {
     "data": {
      "text/latex": [
       "\\begin{align*}\n",
       "\\require{mhchem} \n",
       "\\mathrm{\\mathtt{A_{1}}} &\\xrightarrow{\\mathtt{k_{1}}} 3 \\mathrm{\\mathtt{A_{1}}}  \n",
       " \\end{align*}\n"
      ],
      "text/plain": [
       "L\"\\begin{align*}\n",
       "\\require{mhchem} \n",
       "\\mathrm{\\mathtt{A_{1}}} &\\xrightarrow{\\mathtt{k_{1}}} 3 \\mathrm{\\mathtt{A_{1}}}  \n",
       " \\end{align*}\n",
       "\""
      ]
     },
     "metadata": {},
     "output_type": "display_data"
    },
    {
     "name": "stdout",
     "output_type": "stream",
     "text": [
      "Second reaction network : \n"
     ]
    },
    {
     "data": {
      "text/latex": [
       "\\begin{align*}\n",
       "\\require{mhchem} \n",
       "\\mathrm{\\mathtt{A_{1}}} &\\xrightarrow{\\mathtt{k_{1}}} 2 \\mathrm{\\mathtt{A_{1}}}  \n",
       " \\end{align*}\n"
      ],
      "text/plain": [
       "L\"\\begin{align*}\n",
       "\\require{mhchem} \n",
       "\\mathrm{\\mathtt{A_{1}}} &\\xrightarrow{\\mathtt{k_{1}}} 2 \\mathrm{\\mathtt{A_{1}}}  \n",
       " \\end{align*}\n",
       "\""
      ]
     },
     "metadata": {},
     "output_type": "display_data"
    },
    {
     "name": "stdout",
     "output_type": "stream",
     "text": [
      "Set parameter Username\n",
      "Set parameter LicenseID to value 2636894\n",
      "Academic license - for non-commercial use only - expires 2026-03-15\n",
      "The 2 RNs are linearly-conjugated w.r.t. their SDEs\n",
      "The two RNs have same generator for rates : k=[1.0]and k'=[1.0] and c = [2.0]\n"
     ]
    },
    {
     "data": {
      "text/latex": [
       "Let $x_i$ be the concentration of your $i^\\text{th}$ first species. For both vectors of rate constants the drift vectors and diffusion matrices are given by :  "
      ],
      "text/plain": [
       "L\"Let $x_i$ be the concentration of your $i^\\text{th}$ first species. For both vectors of rate constants the drift vectors and diffusion matrices are given by :  \""
      ]
     },
     "metadata": {},
     "output_type": "display_data"
    },
    {
     "data": {
      "text/latex": [
       "$A(x) = \\begin{equation}\n",
       "\\left[\n",
       "\\begin{array}{c}\n",
       "2 x_{1} \\\\\n",
       "\\end{array}\n",
       "\\right]\n",
       "\\end{equation}\n",
       "$"
      ],
      "text/plain": [
       "L\"$A(x) = \\begin{equation}\n",
       "\\left[\n",
       "\\begin{array}{c}\n",
       "2 x_{1} \\\\\n",
       "\\end{array}\n",
       "\\right]\n",
       "\\end{equation}\n",
       "$\""
      ]
     },
     "metadata": {},
     "output_type": "display_data"
    },
    {
     "data": {
      "text/latex": [
       "$B(x) = \\begin{equation}\n",
       "\\left[\n",
       "\\begin{array}{c}\n",
       "4 x_{1} \\\\\n",
       "\\end{array}\n",
       "\\right]\n",
       "\\end{equation}\n",
       "$"
      ],
      "text/plain": [
       "L\"$B(x) = \\begin{equation}\n",
       "\\left[\n",
       "\\begin{array}{c}\n",
       "4 x_{1} \\\\\n",
       "\\end{array}\n",
       "\\right]\n",
       "\\end{equation}\n",
       "$\""
      ]
     },
     "metadata": {},
     "output_type": "display_data"
    }
   ],
   "source": [
    "sde_linear_conjugacy(reaction_network_11,reaction_network_12)"
   ]
  },
  {
   "cell_type": "code",
   "execution_count": 19,
   "id": "7f56d626-14c5-4174-9891-a52d39ea981d",
   "metadata": {},
   "outputs": [],
   "source": [
    "reaction_network_13 = @reaction_network RN13 begin\n",
    "    @species A_1(t) A_2(t)\n",
    "    (k_1,k_2),  A_1+2*A_2<-->A_1+3*A_2\n",
    "    (k_3,k_4),  A_1+A_2<-->2*A_1\n",
    "end\n",
    "\n",
    "reaction_network_14 = @reaction_network RN14 begin\n",
    "    @species A_1(t) A_2(t)\n",
    "    k_1,  A_1+2*A_2-->A_1+3*A_2\n",
    "    k_2,  A_1+3*A_2-->A_1+A_2\n",
    "    k_3, A_1+A_2--> 3*A_1\n",
    "    k_4, 2*A_1 --> A_2\n",
    "end;"
   ]
  },
  {
   "cell_type": "code",
   "execution_count": 20,
   "id": "bd4f37cf-8709-4aba-bb6b-5e9c35d355c0",
   "metadata": {},
   "outputs": [
    {
     "name": "stdout",
     "output_type": "stream",
     "text": [
      "First reaction network : \n"
     ]
    },
    {
     "data": {
      "text/latex": [
       "\\begin{align*}\n",
       "\\require{mhchem} \n",
       "\\mathrm{\\mathtt{A_{1}}} + 2 \\mathrm{\\mathtt{A_{2}}} &\\xrightleftharpoons[\\mathtt{k_{2}}]{\\mathtt{k_{1}}} \\mathrm{\\mathtt{A_{1}}} + 3 \\mathrm{\\mathtt{A_{2}}} \\\\\n",
       "\\mathrm{\\mathtt{A_{1}}} + \\mathrm{\\mathtt{A_{2}}} &\\xrightleftharpoons[\\mathtt{k_{4}}]{\\mathtt{k_{3}}} 2 \\mathrm{\\mathtt{A_{1}}}  \n",
       " \\end{align*}\n"
      ],
      "text/plain": [
       "L\"\\begin{align*}\n",
       "\\require{mhchem} \n",
       "\\mathrm{\\mathtt{A_{1}}} + 2 \\mathrm{\\mathtt{A_{2}}} &\\xrightleftharpoons[\\mathtt{k_{2}}]{\\mathtt{k_{1}}} \\mathrm{\\mathtt{A_{1}}} + 3 \\mathrm{\\mathtt{A_{2}}} \\\\\n",
       "\\mathrm{\\mathtt{A_{1}}} + \\mathrm{\\mathtt{A_{2}}} &\\xrightleftharpoons[\\mathtt{k_{4}}]{\\mathtt{k_{3}}} 2 \\mathrm{\\mathtt{A_{1}}}  \n",
       " \\end{align*}\n",
       "\""
      ]
     },
     "metadata": {},
     "output_type": "display_data"
    },
    {
     "name": "stdout",
     "output_type": "stream",
     "text": [
      "Second reaction network : \n"
     ]
    },
    {
     "data": {
      "text/latex": [
       "\\begin{align*}\n",
       "\\require{mhchem} \n",
       "\\mathrm{\\mathtt{A_{1}}} + 2 \\mathrm{\\mathtt{A_{2}}} &\\xrightleftharpoons[\\mathtt{k_{2}}]{\\mathtt{k_{1}}} \\mathrm{\\mathtt{A_{1}}} + 3 \\mathrm{\\mathtt{A_{2}}} \\\\\n",
       "\\mathrm{\\mathtt{A_{1}}} + \\mathrm{\\mathtt{A_{2}}} &\\xrightarrow{\\mathtt{k_{3}}} 3 \\mathrm{\\mathtt{A_{1}}} \\\\\n",
       "2 \\mathrm{\\mathtt{A_{1}}} &\\xrightarrow{\\mathtt{k_{4}}} \\mathrm{\\mathtt{A_{2}}}  \n",
       " \\end{align*}\n"
      ],
      "text/plain": [
       "L\"\\begin{align*}\n",
       "\\require{mhchem} \n",
       "\\mathrm{\\mathtt{A_{1}}} + 2 \\mathrm{\\mathtt{A_{2}}} &\\xrightleftharpoons[\\mathtt{k_{2}}]{\\mathtt{k_{1}}} \\mathrm{\\mathtt{A_{1}}} + 3 \\mathrm{\\mathtt{A_{2}}} \\\\\n",
       "\\mathrm{\\mathtt{A_{1}}} + \\mathrm{\\mathtt{A_{2}}} &\\xrightarrow{\\mathtt{k_{3}}} 3 \\mathrm{\\mathtt{A_{1}}} \\\\\n",
       "2 \\mathrm{\\mathtt{A_{1}}} &\\xrightarrow{\\mathtt{k_{4}}} \\mathrm{\\mathtt{A_{2}}}  \n",
       " \\end{align*}\n",
       "\""
      ]
     },
     "metadata": {},
     "output_type": "display_data"
    },
    {
     "name": "stdout",
     "output_type": "stream",
     "text": [
      "Set parameter Username\n",
      "Set parameter LicenseID to value 2636894\n",
      "Academic license - for non-commercial use only - expires 2026-03-15\n",
      "The 2 RNs are not confoundable w.r.t. their ODEs\n"
     ]
    }
   ],
   "source": [
    "ode_confoundability(reaction_network_13,reaction_network_14)"
   ]
  },
  {
   "cell_type": "code",
   "execution_count": 21,
   "id": "d5701dad-cc88-4719-b265-b4ca0722d5cd",
   "metadata": {},
   "outputs": [
    {
     "name": "stdout",
     "output_type": "stream",
     "text": [
      "First reaction network : \n"
     ]
    },
    {
     "data": {
      "text/latex": [
       "\\begin{align*}\n",
       "\\require{mhchem} \n",
       "\\mathrm{\\mathtt{A_{1}}} + 2 \\mathrm{\\mathtt{A_{2}}} &\\xrightleftharpoons[\\mathtt{k_{2}}]{\\mathtt{k_{1}}} \\mathrm{\\mathtt{A_{1}}} + 3 \\mathrm{\\mathtt{A_{2}}} \\\\\n",
       "\\mathrm{\\mathtt{A_{1}}} + \\mathrm{\\mathtt{A_{2}}} &\\xrightleftharpoons[\\mathtt{k_{4}}]{\\mathtt{k_{3}}} 2 \\mathrm{\\mathtt{A_{1}}}  \n",
       " \\end{align*}\n"
      ],
      "text/plain": [
       "L\"\\begin{align*}\n",
       "\\require{mhchem} \n",
       "\\mathrm{\\mathtt{A_{1}}} + 2 \\mathrm{\\mathtt{A_{2}}} &\\xrightleftharpoons[\\mathtt{k_{2}}]{\\mathtt{k_{1}}} \\mathrm{\\mathtt{A_{1}}} + 3 \\mathrm{\\mathtt{A_{2}}} \\\\\n",
       "\\mathrm{\\mathtt{A_{1}}} + \\mathrm{\\mathtt{A_{2}}} &\\xrightleftharpoons[\\mathtt{k_{4}}]{\\mathtt{k_{3}}} 2 \\mathrm{\\mathtt{A_{1}}}  \n",
       " \\end{align*}\n",
       "\""
      ]
     },
     "metadata": {},
     "output_type": "display_data"
    },
    {
     "name": "stdout",
     "output_type": "stream",
     "text": [
      "Second reaction network : \n"
     ]
    },
    {
     "data": {
      "text/latex": [
       "\\begin{align*}\n",
       "\\require{mhchem} \n",
       "\\mathrm{\\mathtt{A_{1}}} + 2 \\mathrm{\\mathtt{A_{2}}} &\\xrightleftharpoons[\\mathtt{k_{2}}]{\\mathtt{k_{1}}} \\mathrm{\\mathtt{A_{1}}} + 3 \\mathrm{\\mathtt{A_{2}}} \\\\\n",
       "\\mathrm{\\mathtt{A_{1}}} + \\mathrm{\\mathtt{A_{2}}} &\\xrightarrow{\\mathtt{k_{3}}} 3 \\mathrm{\\mathtt{A_{1}}} \\\\\n",
       "2 \\mathrm{\\mathtt{A_{1}}} &\\xrightarrow{\\mathtt{k_{4}}} \\mathrm{\\mathtt{A_{2}}}  \n",
       " \\end{align*}\n"
      ],
      "text/plain": [
       "L\"\\begin{align*}\n",
       "\\require{mhchem} \n",
       "\\mathrm{\\mathtt{A_{1}}} + 2 \\mathrm{\\mathtt{A_{2}}} &\\xrightleftharpoons[\\mathtt{k_{2}}]{\\mathtt{k_{1}}} \\mathrm{\\mathtt{A_{1}}} + 3 \\mathrm{\\mathtt{A_{2}}} \\\\\n",
       "\\mathrm{\\mathtt{A_{1}}} + \\mathrm{\\mathtt{A_{2}}} &\\xrightarrow{\\mathtt{k_{3}}} 3 \\mathrm{\\mathtt{A_{1}}} \\\\\n",
       "2 \\mathrm{\\mathtt{A_{1}}} &\\xrightarrow{\\mathtt{k_{4}}} \\mathrm{\\mathtt{A_{2}}}  \n",
       " \\end{align*}\n",
       "\""
      ]
     },
     "metadata": {},
     "output_type": "display_data"
    },
    {
     "name": "stdout",
     "output_type": "stream",
     "text": [
      "Set parameter Username\n",
      "Set parameter LicenseID to value 2636894\n",
      "Academic license - for non-commercial use only - expires 2026-03-15\n",
      "The 2 RNs are linearly-conjugated w.r.t. their ODEs\n",
      "The two RNs have same ODEs for rate constants : k=[1.0, 1.0, 1.0, 1.0]and k'=[2.0, 1.0, 2.0, 2.0] and c = [0.25, 0.5]\n"
     ]
    },
    {
     "data": {
      "text/latex": [
       "Let $x_i$ be the concentration of your $i^\\text{th}$ first species. For both vectors of rate constants the drift vectors is given by :  "
      ],
      "text/plain": [
       "L\"Let $x_i$ be the concentration of your $i^\\text{th}$ first species. For both vectors of rate constants the drift vectors is given by :  \""
      ]
     },
     "metadata": {},
     "output_type": "display_data"
    },
    {
     "data": {
      "text/latex": [
       "$A(x) = \\begin{equation}\n",
       "\\left[\n",
       "\\begin{array}{c}\n",
       " - \\left( x_{1} \\right)^{2} + x_{1} x_{2} \\\\\n",
       "\\left( x_{1} \\right)^{2} - x_{1} x_{2} + \\left( x_{2} \\right)^{2} x_{1} - \\left( x_{2} \\right)^{3} x_{1} \\\\\n",
       "\\end{array}\n",
       "\\right]\n",
       "\\end{equation}\n",
       "$"
      ],
      "text/plain": [
       "L\"$A(x) = \\begin{equation}\n",
       "\\left[\n",
       "\\begin{array}{c}\n",
       " - \\left( x_{1} \\right)^{2} + x_{1} x_{2} \\\\\n",
       "\\left( x_{1} \\right)^{2} - x_{1} x_{2} + \\left( x_{2} \\right)^{2} x_{1} - \\left( x_{2} \\right)^{3} x_{1} \\\\\n",
       "\\end{array}\n",
       "\\right]\n",
       "\\end{equation}\n",
       "$\""
      ]
     },
     "metadata": {},
     "output_type": "display_data"
    }
   ],
   "source": [
    "ode_linear_conjugacy(reaction_network_13,reaction_network_14)"
   ]
  }
 ],
 "metadata": {
  "kernelspec": {
   "display_name": "Julia 1.11.3",
   "language": "julia",
   "name": "julia-1.11"
  },
  "language_info": {
   "file_extension": ".jl",
   "mimetype": "application/julia",
   "name": "julia",
   "version": "1.11.3"
  }
 },
 "nbformat": 4,
 "nbformat_minor": 5
}
